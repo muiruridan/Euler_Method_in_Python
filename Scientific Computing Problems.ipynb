{
 "cells": [
  {
   "cell_type": "markdown",
   "metadata": {},
   "source": [
    "## Euler's Method in Python"
   ]
  },
  {
   "cell_type": "markdown",
   "metadata": {},
   "source": [
    "$ y' = f(x.y), y(x0) = y(0) $"
   ]
  },
  {
   "cell_type": "code",
   "execution_count": 1,
   "metadata": {},
   "outputs": [],
   "source": [
    "# import the library\n",
    "import numpy as np\n",
    "from matplotlib import pyplot as plt"
   ]
  },
  {
   "cell_type": "code",
   "execution_count": 2,
   "metadata": {},
   "outputs": [],
   "source": [
    "x0 = 0\n",
    "y0 = 1\n",
    "xf = 10\n",
    "n = 101\n",
    "deltax = (xf-x0)/(n-1)"
   ]
  },
  {
   "cell_type": "code",
   "execution_count": 3,
   "metadata": {},
   "outputs": [],
   "source": [
    "x = np.linspace(x0, xf, n)"
   ]
  },
  {
   "cell_type": "code",
   "execution_count": 4,
   "metadata": {},
   "outputs": [
    {
     "data": {
      "text/plain": [
       "array([ 0. ,  0.1,  0.2,  0.3,  0.4,  0.5,  0.6,  0.7,  0.8,  0.9,  1. ,\n",
       "        1.1,  1.2,  1.3,  1.4,  1.5,  1.6,  1.7,  1.8,  1.9,  2. ,  2.1,\n",
       "        2.2,  2.3,  2.4,  2.5,  2.6,  2.7,  2.8,  2.9,  3. ,  3.1,  3.2,\n",
       "        3.3,  3.4,  3.5,  3.6,  3.7,  3.8,  3.9,  4. ,  4.1,  4.2,  4.3,\n",
       "        4.4,  4.5,  4.6,  4.7,  4.8,  4.9,  5. ,  5.1,  5.2,  5.3,  5.4,\n",
       "        5.5,  5.6,  5.7,  5.8,  5.9,  6. ,  6.1,  6.2,  6.3,  6.4,  6.5,\n",
       "        6.6,  6.7,  6.8,  6.9,  7. ,  7.1,  7.2,  7.3,  7.4,  7.5,  7.6,\n",
       "        7.7,  7.8,  7.9,  8. ,  8.1,  8.2,  8.3,  8.4,  8.5,  8.6,  8.7,\n",
       "        8.8,  8.9,  9. ,  9.1,  9.2,  9.3,  9.4,  9.5,  9.6,  9.7,  9.8,\n",
       "        9.9, 10. ])"
      ]
     },
     "execution_count": 4,
     "metadata": {},
     "output_type": "execute_result"
    }
   ],
   "source": [
    "x"
   ]
  },
  {
   "cell_type": "code",
   "execution_count": 5,
   "metadata": {},
   "outputs": [],
   "source": [
    "y = np.zeros([n])"
   ]
  },
  {
   "cell_type": "code",
   "execution_count": 6,
   "metadata": {},
   "outputs": [
    {
     "data": {
      "text/plain": [
       "array([0., 0., 0., 0., 0., 0., 0., 0., 0., 0., 0., 0., 0., 0., 0., 0., 0.,\n",
       "       0., 0., 0., 0., 0., 0., 0., 0., 0., 0., 0., 0., 0., 0., 0., 0., 0.,\n",
       "       0., 0., 0., 0., 0., 0., 0., 0., 0., 0., 0., 0., 0., 0., 0., 0., 0.,\n",
       "       0., 0., 0., 0., 0., 0., 0., 0., 0., 0., 0., 0., 0., 0., 0., 0., 0.,\n",
       "       0., 0., 0., 0., 0., 0., 0., 0., 0., 0., 0., 0., 0., 0., 0., 0., 0.,\n",
       "       0., 0., 0., 0., 0., 0., 0., 0., 0., 0., 0., 0., 0., 0., 0., 0.])"
      ]
     },
     "execution_count": 6,
     "metadata": {},
     "output_type": "execute_result"
    }
   ],
   "source": [
    "y"
   ]
  },
  {
   "cell_type": "code",
   "execution_count": 7,
   "metadata": {},
   "outputs": [],
   "source": [
    "y[0] = y0\n",
    "for i in range(1,n):\n",
    "    y[i] = deltax*(-y[i-1] + np.sin(x[i-1])) + y[i-1]"
   ]
  },
  {
   "cell_type": "code",
   "execution_count": 8,
   "metadata": {},
   "outputs": [
    {
     "data": {
      "text/plain": [
       "0.16896563480992266"
      ]
     },
     "execution_count": 8,
     "metadata": {},
     "output_type": "execute_result"
    }
   ],
   "source": [
    "y[i]"
   ]
  },
  {
   "cell_type": "code",
   "execution_count": 9,
   "metadata": {},
   "outputs": [
    {
     "name": "stdout",
     "output_type": "stream",
     "text": [
      "0.0 1.0\n",
      "0.1 0.9\n",
      "0.2 0.8199833416646828\n",
      "0.30000000000000004 0.7578519405777207\n",
      "0.4 0.7116187671860825\n",
      "0.5 0.6793987246983393\n",
      "0.6000000000000001 0.6594014060889256\n",
      "0.7000000000000001 0.6499255128195366\n",
      "0.8 0.649354730261352\n",
      "0.9 0.6561548663251691\n",
      "1.0 0.6688720706554006\n",
      "1.1 0.6861319620706502\n",
      "1.2000000000000002 0.7066395018697287\n",
      "1.3 0.7291794602794784\n",
      "1.4000000000000001 0.7526173327932499\n",
      "1.5 0.775900572512771\n",
      "1.6 0.7980600139218994\n",
      "1.7000000000000002 0.81821137283386\n",
      "1.8 0.8355567165957208\n",
      "1.9000000000000001 0.8493858080239682\n",
      "2.0 0.8590772359903128\n",
      "2.1 0.8640992550738498\n",
      "2.2 0.8640102662313521\n",
      "2.3000000000000003 0.8584588799901759\n",
      "2.4000000000000004 0.8471835132088303\n",
      "2.5 0.8300114799430623\n",
      "2.6 0.8068575463591517\n",
      "2.7 0.7777219289053829\n",
      "2.8000000000000003 0.7426877240382276\n",
      "2.9000000000000004 0.7019177666499953\n",
      "3.0 0.6556509229063939\n",
      "3.1 0.6041978314217412\n",
      "3.2 0.5479361145228961\n",
      "3.3000000000000003 0.4873050887278485\n",
      "3.4000000000000004 0.4228000104407388\n",
      "3.5 0.35496589919398175\n",
      "3.6 0.28439098650562156\n",
      "3.7 0.21169984352557414\n",
      "3.8000000000000003 0.1375462450821674\n",
      "3.9000000000000004 0.06260583147967873\n",
      "4.0 -0.01243136758668656\n",
      "4.1000000000000005 -0.08686848035881073\n",
      "4.2 -0.16000934342937073\n",
      "4.3 -0.23116598632779248\n",
      "4.4 -0.2996659813699587\n",
      "4.5 -0.3648595906219144\n",
      "4.6000000000000005 -0.4261266433262327\n",
      "4.7 -0.48288307935695585\n",
      "4.800000000000001 -0.5345870971776704\n",
      "4.9 -0.5807448483434874\n",
      "5.0 -0.6209156247715719\n",
      "5.1000000000000005 -0.6547164897607286\n",
      "5.2 -0.6818263090174289\n",
      "5.300000000000001 -0.7019891436877014\n",
      "5.4 -0.7150169735413213\n",
      "5.5 -0.7207917249427879\n",
      "5.6000000000000005 -0.7192665850055483\n",
      "5.7 -0.7104665902922256\n",
      "5.800000000000001 -0.6944884855227668\n",
      "5.9 -0.6714998549118657\n",
      "6.0 -0.6417375359037027\n",
      "6.1000000000000005 -0.6055053321332251\n",
      "6.2 -0.563171049347112\n",
      "6.300000000000001 -0.5151628846941505\n",
      "6.4 -0.4619652061763004\n",
      "6.5 -0.40411376507362096\n",
      "6.6000000000000005 -0.3421903897574773\n",
      "6.7 -0.2768172144303917\n",
      "6.800000000000001 -0.2086505009256927\n",
      "6.9 -0.13837411571926256\n",
      "7.0 -0.0666927277085163\n",
      "7.1000000000000005 0.005675204934214251\n",
      "7.2 0.07800458845338047\n",
      "7.300000000000001 0.14957091599295774\n",
      "7.4 0.21965748645651845\n",
      "7.5 0.2875625473920293\n",
      "7.6000000000000005 0.3526062903303003\n",
      "7.7 0.4141376285004189\n",
      "7.800000000000001 0.47154068903807705\n",
      "7.9 0.5242409546717298\n",
      "8.0 0.571710993388534\n",
      "8.1 0.6134757187120188\n",
      "8.200000000000001 0.6491171279253255\n",
      "8.3 0.6782784708007702\n",
      "8.4 0.7006678070963225\n",
      "8.5 0.7160609171955183\n",
      "8.6 0.7243035367383155\n",
      "8.700000000000001 0.7253128928518953\n",
      "8.8 0.719078526574924\n",
      "8.9 0.7056623932066077\n",
      "9.0 0.6851982395317354\n",
      "9.1 0.6578902641027375\n",
      "9.200000000000001 0.624011073927399\n",
      "9.3 0.5838989579446836\n",
      "9.4 0.5379545045009214\n",
      "9.5 0.48663659659616504\n",
      "9.600000000000001 0.4304578248903676\n",
      "9.700000000000001 0.36997936427903266\n",
      "9.8 0.305805365210035\n",
      "9.9 0.23857691576383866\n",
      "10.0 0.16896563480992266\n"
     ]
    }
   ],
   "source": [
    "for i in range(n):\n",
    "    print(x[i], y[i])"
   ]
  },
  {
   "cell_type": "code",
   "execution_count": 11,
   "metadata": {},
   "outputs": [
    {
     "data": {
      "image/png": "[encoded data removed]",
      "text/plain": [
       "<Figure size 432x288 with 1 Axes>"
      ]
     },
     "metadata": {
      "needs_background": "light"
     },
     "output_type": "display_data"
    }
   ],
   "source": [
    "plt.plot(x,y, 'o')\n",
    "plt.xlabel('Value of x')\n",
    "plt.ylabel('Value of y')\n",
    "plt.title(\"Approximate Solution with Forward Euler's Methord\")\n",
    "plt.show()"
   ]
  },
  {
   "cell_type": "code",
   "execution_count": null,
   "metadata": {},
   "outputs": [],
   "source": []
  },
  {
   "cell_type": "code",
   "execution_count": null,
   "metadata": {},
   "outputs": [],
   "source": []
  },
  {
   "cell_type": "code",
   "execution_count": null,
   "metadata": {},
   "outputs": [],
   "source": []
  },
  {
   "cell_type": "code",
   "execution_count": null,
   "metadata": {},
   "outputs": [],
   "source": []
  },
  {
   "cell_type": "code",
   "execution_count": null,
   "metadata": {},
   "outputs": [],
   "source": []
  },
  {
   "cell_type": "code",
   "execution_count": null,
   "metadata": {},
   "outputs": [],
   "source": []
  },
  {
   "cell_type": "code",
   "execution_count": null,
   "metadata": {},
   "outputs": [],
   "source": []
  },
  {
   "cell_type": "code",
   "execution_count": null,
   "metadata": {},
   "outputs": [],
   "source": []
  }
 ],
 "metadata": {
  "kernelspec": {
   "display_name": "Python 3 (ipykernel)",
   "language": "python",
   "name": "python3"
  },
  "language_info": {
   "codemirror_mode": {
    "name": "ipython",
    "version": 3
   },
   "file_extension": ".py",
   "mimetype": "text/x-python",
   "name": "python",
   "nbconvert_exporter": "python",
   "pygments_lexer": "ipython3",
   "version": "3.11.4"
  }
 },
 "nbformat": 4,
 "nbformat_minor": 4
}
